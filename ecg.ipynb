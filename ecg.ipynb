{
  "nbformat": 4,
  "nbformat_minor": 0,
  "metadata": {
    "colab": {
      "provenance": []
    },
    "kernelspec": {
      "name": "python3",
      "display_name": "Python 3"
    },
    "language_info": {
      "name": "python"
    }
  },
  "cells": [
    {
      "cell_type": "code",
      "execution_count": null,
      "metadata": {
        "id": "Aqk583motcSa"
      },
      "outputs": [],
      "source": [
        "import numpy as np\n",
        "import os\n",
        "import torch\n",
        "from torch.utils.data import Dataset, DataLoader\n",
        "import torch.nn as nn"
      ]
    },
    {
      "cell_type": "code",
      "source": [
        "device = 'cuda'"
      ],
      "metadata": {
        "id": "GcDUT9EpA_SF"
      },
      "execution_count": null,
      "outputs": []
    },
    {
      "cell_type": "code",
      "source": [
        "train_data = np.loadtxt(r\"D:\\ecg\\mitbih_train.csv\", delimiter=',')\n",
        "test_data = np.loadtxt(r\"D:\\ecg\\mitbih_test.csv\", delimiter=',')"
      ],
      "metadata": {
        "id": "_fze2SaPuYbM"
      },
      "execution_count": null,
      "outputs": []
    },
    {
      "cell_type": "code",
      "source": [
        "train_data[0]"
      ],
      "metadata": {
        "colab": {
          "base_uri": "https://localhost:8080/"
        },
        "id": "xSiDuFRJukjK",
        "outputId": "62648207-70d2-4412-9925-b3cbd9712309"
      },
      "execution_count": null,
      "outputs": [
        {
          "output_type": "execute_result",
          "data": {
            "text/plain": [
              "array([0.97794116, 0.92647058, 0.68137252, 0.24509804, 0.15441176,\n",
              "       0.19117647, 0.15196079, 0.08578432, 0.05882353, 0.04901961,\n",
              "       0.04411765, 0.06127451, 0.06617647, 0.06127451, 0.04901961,\n",
              "       0.07352941, 0.06127451, 0.06127451, 0.06617647, 0.06862745,\n",
              "       0.09558824, 0.0759804 , 0.09313726, 0.10539216, 0.11519608,\n",
              "       0.10294118, 0.11764706, 0.125     , 0.14215687, 0.12745099,\n",
              "       0.15196079, 0.14460784, 0.16421568, 0.14460784, 0.15931372,\n",
              "       0.15196079, 0.15441176, 0.14215687, 0.15196079, 0.15196079,\n",
              "       0.14705883, 0.13235295, 0.12745099, 0.13480392, 0.13725491,\n",
              "       0.1127451 , 0.10784314, 0.10539216, 0.10784314, 0.09803922,\n",
              "       0.09313726, 0.10294118, 0.1004902 , 0.10539216, 0.10294118,\n",
              "       0.11764706, 0.10539216, 0.12254902, 0.12745099, 0.14215687,\n",
              "       0.14705883, 0.14460784, 0.1740196 , 0.23039216, 0.23774509,\n",
              "       0.24754901, 0.23039216, 0.2254902 , 0.19852941, 0.17647059,\n",
              "       0.13235295, 0.125     , 0.11764706, 0.12254902, 0.1127451 ,\n",
              "       0.12990196, 0.11519608, 0.08333334, 0.        , 0.06617647,\n",
              "       0.30637255, 0.61274511, 0.8602941 , 1.        , 0.95833331,\n",
              "       0.74509805, 0.30392158, 0.16421568, 0.20588236, 0.16421568,\n",
              "       0.10294118, 0.09558824, 0.09068628, 0.1004902 , 0.09558824,\n",
              "       0.09803922, 0.09313726, 0.09803922, 0.09558824, 0.1127451 ,\n",
              "       0.        , 0.        , 0.        , 0.        , 0.        ,\n",
              "       0.        , 0.        , 0.        , 0.        , 0.        ,\n",
              "       0.        , 0.        , 0.        , 0.        , 0.        ,\n",
              "       0.        , 0.        , 0.        , 0.        , 0.        ,\n",
              "       0.        , 0.        , 0.        , 0.        , 0.        ,\n",
              "       0.        , 0.        , 0.        , 0.        , 0.        ,\n",
              "       0.        , 0.        , 0.        , 0.        , 0.        ,\n",
              "       0.        , 0.        , 0.        , 0.        , 0.        ,\n",
              "       0.        , 0.        , 0.        , 0.        , 0.        ,\n",
              "       0.        , 0.        , 0.        , 0.        , 0.        ,\n",
              "       0.        , 0.        , 0.        , 0.        , 0.        ,\n",
              "       0.        , 0.        , 0.        , 0.        , 0.        ,\n",
              "       0.        , 0.        , 0.        , 0.        , 0.        ,\n",
              "       0.        , 0.        , 0.        , 0.        , 0.        ,\n",
              "       0.        , 0.        , 0.        , 0.        , 0.        ,\n",
              "       0.        , 0.        , 0.        , 0.        , 0.        ,\n",
              "       0.        , 0.        , 0.        , 0.        , 0.        ,\n",
              "       0.        , 0.        , 0.        ])"
            ]
          },
          "metadata": {},
          "execution_count": 7
        }
      ]
    },
    {
      "cell_type": "code",
      "source": [
        "class EcgDataset(Dataset):\n",
        "    def __init__(self, data):\n",
        "        self.data = data\n",
        "\n",
        "    def __len__(self):\n",
        "        return len(self.data)\n",
        "\n",
        "    def __getitem__(self, idx):\n",
        "        np_ecg = self.data[idx][:-1]\n",
        "        ecg = torch.from_numpy(np_ecg).to(torch.float32)\n",
        "        np_label = self.data[idx][-1]\n",
        "        label = torch.tensor(np_label, dtype=torch.float32)\n",
        "        ecg = ecg.unsqueeze(1)  # Add channel dimension if missing\n",
        "        ecg = ecg.permute(1, 0)  # Change shape to (batch_size, channels, seq_length)\n",
        "\n",
        "        return ecg, int(label)"
      ],
      "metadata": {
        "id": "Je62Wlloup2h"
      },
      "execution_count": null,
      "outputs": []
    },
    {
      "cell_type": "code",
      "source": [
        "train_dataset = EcgDataset(data=train_data)\n",
        "train_dataloader = DataLoader(train_dataset, batch_size=500, shuffle=True)\n",
        "\n",
        "test_dataset = EcgDataset(data=test_data)\n",
        "test_dataloader = DataLoader(test_dataset, batch_size=500, shuffle=True)"
      ],
      "metadata": {
        "id": "fIl-Xcj1x_IZ"
      },
      "execution_count": null,
      "outputs": []
    },
    {
      "cell_type": "code",
      "source": [
        "ecg, label = next(iter(test_dataloader))"
      ],
      "metadata": {
        "id": "Is1fs1mmz8bI"
      },
      "execution_count": null,
      "outputs": []
    },
    {
      "cell_type": "code",
      "source": [
        "ecg.shape"
      ],
      "metadata": {
        "colab": {
          "base_uri": "https://localhost:8080/"
        },
        "id": "YTbigEPaCo9e",
        "outputId": "51c7789d-be8b-4bb8-bddf-583a8eb170f7"
      },
      "execution_count": null,
      "outputs": [
        {
          "output_type": "execute_result",
          "data": {
            "text/plain": [
              "torch.Size([500, 1, 187])"
            ]
          },
          "metadata": {},
          "execution_count": 29
        }
      ]
    },
    {
      "cell_type": "code",
      "source": [
        "# Setting up the training step and testing step\n",
        "def train_step(model, optimizer, loss_fn, epoch, dataloader):\n",
        "  model.train()\n",
        "  train_loss, acc = 0, 0\n",
        "  total_correct = 0\n",
        "  total_samples = 0\n",
        "\n",
        "  for X, y in dataloader:\n",
        "    X, y = X.to(device), y.to(device)\n",
        "\n",
        "    y_pred = model(X)\n",
        "    loss = loss_fn(y_pred, y)\n",
        "    train_loss +=loss.item()\n",
        "    model.zero_grad()\n",
        "    loss.backward()\n",
        "    optimizer.step()\n",
        "\n",
        "    y_pred_class = torch.argmax(torch.softmax(y_pred, dim=1), dim=1)\n",
        "    total_correct += (y_pred_class == y).sum().item()\n",
        "    total_samples += y.size(0)\n",
        "\n",
        "  acc = total_correct * 100 / total_samples\n",
        "\n",
        "  train_loss = train_loss/len(dataloader)\n",
        "  print(f\"Epoch: {epoch} | Loss: {loss} | Accuracy: {acc:2f}\")\n",
        "\n",
        "\n",
        "def test_step(model, loss_fn, epoch, dataloader):\n",
        "  model.eval()\n",
        "  test_loss, acc = 0, 0\n",
        "  total_correct = 0\n",
        "  total_samples = 0\n",
        "\n",
        "\n",
        "  with torch.inference_mode():\n",
        "    for X, y in dataloader:\n",
        "      X, y = X.to(device), y.to(device)\n",
        "\n",
        "      y_pred = model(X)\n",
        "      loss = loss_fn(y_pred, y)\n",
        "      test_loss += loss.item()\n",
        "      y_pred_class = torch.argmax(torch.softmax(y_pred, dim=1), dim=1)\n",
        "      total_correct += (y_pred_class == y).sum().item()\n",
        "      total_samples += y.size(0)\n",
        "\n",
        "    acc = total_correct * 100 / total_samples\n",
        "\n",
        "    test_loss = test_loss/len(dataloader)\n",
        "    print(f\"Epoch: {epoch} | Test Loss: {loss} | Accuracy: {acc:2f}\")\n",
        "    print(\"************************\")"
      ],
      "metadata": {
        "id": "aYJV_XcHBA_6"
      },
      "execution_count": null,
      "outputs": []
    },
    {
      "cell_type": "code",
      "source": [
        "class Simple1DCNN(nn.Module):\n",
        "    def __init__(self, input_channels, num_classes, sequence_length):\n",
        "        super(Simple1DCNN, self).__init__()\n",
        "        self.conv1 = nn.Conv1d(in_channels=input_channels, out_channels=64, kernel_size=3, padding=1)\n",
        "        self.relu = nn.ReLU()\n",
        "        self.conv2 = nn.Conv1d(in_channels=64, out_channels=128, kernel_size=3, padding=1)\n",
        "        self.pool = nn.MaxPool1d(kernel_size=2)\n",
        "\n",
        "        # Compute the output size after convolutions and pooling\n",
        "        self._to_linear = self._compute_flattened_size(input_channels, sequence_length)\n",
        "\n",
        "        self.fc1 = nn.Linear(self._to_linear, 256)\n",
        "        self.fc2 = nn.Linear(256, num_classes)\n",
        "\n",
        "    def _compute_flattened_size(self, input_channels, sequence_length):\n",
        "        x = torch.randn(1, input_channels, sequence_length)  # Dummy tensor\n",
        "        x = self.pool(self.relu(self.conv1(x)))\n",
        "        x = self.pool(self.relu(self.conv2(x)))\n",
        "        return x.numel()  # Total number of features after conv and pooling\n",
        "\n",
        "    def forward(self, x):\n",
        "        x = self.pool(self.relu(self.conv1(x)))\n",
        "        x = self.pool(self.relu(self.conv2(x)))\n",
        "        x = x.view(x.shape[0], -1)  # Flatten\n",
        "        x = self.relu(self.fc1(x))\n",
        "        x = self.fc2(x)\n",
        "        return x"
      ],
      "metadata": {
        "id": "rZGM7jO10AyD"
      },
      "execution_count": null,
      "outputs": []
    },
    {
      "cell_type": "code",
      "source": [
        "sequence_length = 187\n",
        "model = Simple1DCNN(input_channels=1, num_classes=5, sequence_length=sequence_length).to(device)"
      ],
      "metadata": {
        "id": "LqKRw8owAo_r"
      },
      "execution_count": null,
      "outputs": []
    },
    {
      "cell_type": "code",
      "source": [
        "model(ecg.to(device)).argmax(dim=1)"
      ],
      "metadata": {
        "colab": {
          "base_uri": "https://localhost:8080/"
        },
        "id": "o04upMVeBqnH",
        "outputId": "c5d8eae0-84b2-49b9-8897-d37c831ec1c9"
      },
      "execution_count": null,
      "outputs": [
        {
          "output_type": "execute_result",
          "data": {
            "text/plain": [
              "tensor([2, 2, 2, 2, 2, 2, 2, 2, 2, 2, 2, 2, 2, 2, 2, 2, 2, 2, 2, 2, 2, 2, 2, 2,\n",
              "        2, 2, 2, 2, 2, 2, 2, 2, 2, 2, 2, 2, 2, 2, 2, 2, 2, 2, 2, 2, 2, 2, 2, 2,\n",
              "        2, 2, 2, 2, 2, 2, 2, 2, 2, 2, 2, 2, 2, 2, 2, 2, 2, 2, 2, 2, 2, 2, 2, 2,\n",
              "        2, 2, 2, 2, 2, 2, 2, 2, 4, 2, 2, 2, 2, 2, 2, 2, 2, 2, 2, 2, 2, 2, 2, 2,\n",
              "        2, 2, 2, 2, 2, 2, 2, 2, 2, 2, 2, 2, 2, 2, 2, 2, 2, 2, 2, 2, 2, 2, 2, 2,\n",
              "        2, 2, 2, 2, 2, 2, 2, 2, 2, 2, 2, 2, 2, 2, 2, 2, 2, 2, 2, 2, 2, 2, 2, 2,\n",
              "        2, 2, 2, 2, 2, 2, 2, 2, 2, 2, 2, 2, 2, 2, 2, 2, 2, 2, 2, 2, 2, 2, 2, 2,\n",
              "        2, 2, 2, 2, 2, 2, 2, 2, 2, 2, 2, 2, 2, 2, 2, 2, 2, 2, 2, 2, 2, 2, 2, 2,\n",
              "        2, 2, 2, 2, 2, 2, 2, 2, 2, 2, 2, 2, 2, 2, 2, 2, 2, 2, 2, 2, 2, 2, 2, 2,\n",
              "        2, 2, 2, 2, 4, 2, 2, 2, 2, 2, 2, 2, 2, 2, 2, 2, 2, 2, 2, 2, 2, 2, 2, 2,\n",
              "        2, 2, 2, 2, 2, 2, 2, 2, 2, 2, 2, 2, 2, 2, 2, 2, 2, 2, 2, 2, 2, 2, 2, 2,\n",
              "        2, 2, 2, 2, 2, 2, 2, 2, 2, 2, 2, 2, 2, 2, 2, 2, 2, 2, 2, 2, 2, 2, 2, 2,\n",
              "        2, 2, 2, 2, 2, 2, 2, 2, 2, 2, 2, 2, 2, 2, 2, 2, 2, 2, 2, 2, 2, 2, 2, 2,\n",
              "        2, 2, 2, 2, 2, 2, 2, 2, 2, 2, 2, 2, 2, 2, 2, 2, 2, 2, 2, 2, 2, 2, 2, 2,\n",
              "        2, 2, 2, 2, 2, 2, 2, 2, 2, 2, 2, 2, 2, 2, 2, 2, 2, 2, 2, 2, 2, 2, 2, 2,\n",
              "        2, 2, 2, 2, 2, 2, 2, 2, 2, 2, 2, 2, 2, 2, 2, 2, 2, 2, 2, 2, 2, 2, 2, 2,\n",
              "        2, 2, 2, 2, 2, 2, 2, 2, 2, 2, 2, 2, 2, 2, 2, 2, 2, 2, 2, 2, 2, 2, 2, 2,\n",
              "        2, 2, 2, 2, 2, 2, 2, 2, 2, 2, 2, 2, 2, 2, 2, 2, 2, 2, 2, 2, 2, 2, 2, 2,\n",
              "        2, 2, 2, 2, 2, 2, 4, 2, 2, 2, 2, 2, 2, 2, 2, 2, 2, 2, 2, 2, 2, 2, 2, 2,\n",
              "        2, 2, 2, 2, 2, 2, 2, 2, 2, 2, 2, 2, 2, 2, 2, 2, 2, 2, 2, 2, 2, 2, 2, 2,\n",
              "        2, 2, 2, 2, 2, 2, 2, 2, 2, 2, 2, 2, 2, 2, 2, 2, 2, 2, 2, 2],\n",
              "       device='cuda:0')"
            ]
          },
          "metadata": {},
          "execution_count": 36
        }
      ]
    },
    {
      "cell_type": "code",
      "source": [
        "# Setting up optimizer and loss function\n",
        "optimizer = torch.optim.Adam(params=model.parameters(),\n",
        "                            lr=0.001)\n",
        "loss_fn = torch.nn.CrossEntropyLoss()"
      ],
      "metadata": {
        "id": "gtRYCgtZB4lH"
      },
      "execution_count": null,
      "outputs": []
    },
    {
      "cell_type": "code",
      "source": [
        "# Training the model\n",
        "epochs = 50\n",
        "torch.manual_seed(42)\n",
        "torch.cuda.manual_seed(42)\n",
        "for epoch in range(epochs):\n",
        "  train_step(model=model,\n",
        "             optimizer=optimizer,\n",
        "             loss_fn=loss_fn,\n",
        "             epoch=epoch,\n",
        "             dataloader=train_dataloader)\n",
        "  test_step(model=model,\n",
        "            loss_fn=loss_fn,\n",
        "            epoch=epoch,\n",
        "            dataloader=test_dataloader)"
      ],
      "metadata": {
        "colab": {
          "base_uri": "https://localhost:8080/",
          "height": 1000
        },
        "id": "vNNqAZLJDNm6",
        "outputId": "6b879cbf-37a2-4290-fafb-8c31ed25399c"
      },
      "execution_count": null,
      "outputs": [
        {
          "output_type": "stream",
          "name": "stdout",
          "text": [
            "Epoch: 0 | Loss: 0.11626824736595154 | Accuracy: 90.466455\n",
            "Epoch: 0 | Test Loss: 0.17221419513225555 | Accuracy: 94.651014\n",
            "************************\n",
            "Epoch: 1 | Loss: 0.045615702867507935 | Accuracy: 95.770610\n",
            "Epoch: 1 | Test Loss: 0.1677989363670349 | Accuracy: 95.961995\n",
            "************************\n",
            "Epoch: 2 | Loss: 0.07448151707649231 | Accuracy: 96.476460\n",
            "Epoch: 2 | Test Loss: 0.18204337358474731 | Accuracy: 96.564955\n",
            "************************\n",
            "Epoch: 3 | Loss: 0.12079643458127975 | Accuracy: 96.999566\n",
            "Epoch: 3 | Test Loss: 0.1891753077507019 | Accuracy: 96.925818\n",
            "************************\n",
            "Epoch: 4 | Loss: 0.11989246308803558 | Accuracy: 97.311374\n",
            "Epoch: 4 | Test Loss: 0.11778265982866287 | Accuracy: 96.875571\n",
            "************************\n",
            "Epoch: 5 | Loss: 0.09435677528381348 | Accuracy: 97.502113\n",
            "Epoch: 5 | Test Loss: 0.09509772062301636 | Accuracy: 97.300384\n",
            "************************\n",
            "Epoch: 6 | Loss: 0.03618132323026657 | Accuracy: 97.719122\n",
            "Epoch: 6 | Test Loss: 0.09244558960199356 | Accuracy: 97.533346\n",
            "************************\n",
            "Epoch: 7 | Loss: 0.06410736590623856 | Accuracy: 97.898440\n",
            "Epoch: 7 | Test Loss: 0.2161230742931366 | Accuracy: 97.642975\n",
            "************************\n",
            "Epoch: 8 | Loss: 0.02737581916153431 | Accuracy: 98.026361\n",
            "Epoch: 8 | Test Loss: 0.08494146168231964 | Accuracy: 97.592728\n",
            "************************\n",
            "Epoch: 9 | Loss: 0.13663114607334137 | Accuracy: 98.138292\n",
            "Epoch: 9 | Test Loss: 0.08890265226364136 | Accuracy: 97.757172\n",
            "************************\n",
            "Epoch: 10 | Loss: 0.061544448137283325 | Accuracy: 98.187404\n",
            "Epoch: 10 | Test Loss: 0.08775870501995087 | Accuracy: 97.843961\n",
            "************************\n",
            "Epoch: 11 | Loss: 0.0785919800400734 | Accuracy: 98.356443\n",
            "Epoch: 11 | Test Loss: 0.069943867623806 | Accuracy: 98.017541\n",
            "************************\n",
            "Epoch: 12 | Loss: 0.07067278772592545 | Accuracy: 98.419261\n",
            "Epoch: 12 | Test Loss: 0.1353243738412857 | Accuracy: 97.949022\n",
            "************************\n",
            "Epoch: 13 | Loss: 0.006151528097689152 | Accuracy: 98.555177\n",
            "Epoch: 13 | Test Loss: 0.11036378145217896 | Accuracy: 98.022109\n",
            "************************\n",
            "Epoch: 14 | Loss: 0.3339800536632538 | Accuracy: 98.558604\n",
            "Epoch: 14 | Test Loss: 0.1130281388759613 | Accuracy: 97.834826\n",
            "************************\n",
            "Epoch: 15 | Loss: 0.010840656235814095 | Accuracy: 98.668250\n",
            "Epoch: 15 | Test Loss: 0.14249010384082794 | Accuracy: 97.962726\n",
            "************************\n",
            "Epoch: 16 | Loss: 0.061788637191057205 | Accuracy: 98.718505\n",
            "Epoch: 16 | Test Loss: 0.04958837479352951 | Accuracy: 98.035812\n",
            "************************\n",
            "Epoch: 17 | Loss: 0.022297656163573265 | Accuracy: 98.823583\n",
            "Epoch: 17 | Test Loss: 0.053642697632312775 | Accuracy: 98.086059\n",
            "************************\n",
            "Epoch: 18 | Loss: 0.1081884577870369 | Accuracy: 98.833863\n",
            "Epoch: 18 | Test Loss: 0.09215696156024933 | Accuracy: 98.063219\n",
            "************************\n",
            "Epoch: 19 | Loss: 0.008138277567923069 | Accuracy: 98.843000\n",
            "Epoch: 19 | Test Loss: 0.04747296869754791 | Accuracy: 98.113466\n",
            "************************\n",
            "Epoch: 20 | Loss: 0.08675228804349899 | Accuracy: 99.017749\n",
            "Epoch: 20 | Test Loss: 0.10839501023292542 | Accuracy: 98.076923\n",
            "************************\n",
            "Epoch: 21 | Loss: 0.08578287810087204 | Accuracy: 99.009754\n",
            "Epoch: 21 | Test Loss: 0.026427194476127625 | Accuracy: 98.195688\n",
            "************************\n",
            "Epoch: 22 | Loss: 0.0035841295029968023 | Accuracy: 99.060009\n",
            "Epoch: 22 | Test Loss: 0.05335038900375366 | Accuracy: 98.076923\n",
            "************************\n",
            "Epoch: 23 | Loss: 0.04859263822436333 | Accuracy: 99.107979\n",
            "Epoch: 23 | Test Loss: 0.04815986752510071 | Accuracy: 98.118034\n",
            "************************\n",
            "Epoch: 24 | Loss: 0.015759600326418877 | Accuracy: 99.154807\n",
            "Epoch: 24 | Test Loss: 0.047634776681661606 | Accuracy: 98.282478\n",
            "************************\n",
            "Epoch: 25 | Loss: 0.0030551564414054155 | Accuracy: 99.239327\n",
            "Epoch: 25 | Test Loss: 0.07560273259878159 | Accuracy: 97.949022\n",
            "************************\n",
            "Epoch: 26 | Loss: 0.02858891151845455 | Accuracy: 99.242753\n",
            "Epoch: 26 | Test Loss: 0.05965941771864891 | Accuracy: 98.195688\n",
            "************************\n",
            "Epoch: 27 | Loss: 0.027598902583122253 | Accuracy: 99.277018\n",
            "Epoch: 27 | Test Loss: 0.09548863768577576 | Accuracy: 98.296181\n",
            "************************\n",
            "Epoch: 28 | Loss: 0.012276052497327328 | Accuracy: 99.286155\n",
            "Epoch: 28 | Test Loss: 0.12104947865009308 | Accuracy: 98.369267\n",
            "************************\n",
            "Epoch: 29 | Loss: 0.005965355318039656 | Accuracy: 99.352400\n",
            "Epoch: 29 | Test Loss: 0.06346382200717926 | Accuracy: 98.277910\n",
            "************************\n",
            "Epoch: 30 | Loss: 0.05116832256317139 | Accuracy: 99.442630\n",
            "Epoch: 30 | Test Loss: 0.10140885412693024 | Accuracy: 98.346428\n",
            "************************\n",
            "Epoch: 31 | Loss: 0.0017520649125799537 | Accuracy: 99.390091\n",
            "Epoch: 31 | Test Loss: 0.07926895469427109 | Accuracy: 98.314453\n",
            "************************\n",
            "Epoch: 32 | Loss: 0.008038468658924103 | Accuracy: 99.472326\n",
            "Epoch: 32 | Test Loss: 0.08763319998979568 | Accuracy: 98.305317\n",
            "************************\n",
            "Epoch: 33 | Loss: 0.008045686408877373 | Accuracy: 99.499737\n",
            "Epoch: 33 | Test Loss: 0.12540261447429657 | Accuracy: 98.168281\n",
            "************************\n",
            "Epoch: 34 | Loss: 0.001018976210616529 | Accuracy: 99.425497\n",
            "Epoch: 34 | Test Loss: 0.1622726172208786 | Accuracy: 97.958158\n",
            "************************\n",
            "Epoch: 35 | Loss: 0.04724109172821045 | Accuracy: 99.539713\n",
            "Epoch: 35 | Test Loss: 0.06957785785198212 | Accuracy: 98.186552\n",
            "************************\n",
            "Epoch: 36 | Loss: 0.00014943124551791698 | Accuracy: 99.543139\n",
            "Epoch: 36 | Test Loss: 0.043573394417762756 | Accuracy: 98.259638\n",
            "************************\n",
            "Epoch: 37 | Loss: 0.0020791306160390377 | Accuracy: 99.589967\n",
            "Epoch: 37 | Test Loss: 0.03317854925990105 | Accuracy: 98.332724\n",
            "************************\n"
          ]
        },
        {
          "output_type": "error",
          "ename": "KeyboardInterrupt",
          "evalue": "",
          "traceback": [
            "\u001b[1;31m---------------------------------------------------------------------------\u001b[0m",
            "\u001b[1;31mKeyboardInterrupt\u001b[0m                         Traceback (most recent call last)",
            "Cell \u001b[1;32mIn[38], line 6\u001b[0m\n\u001b[0;32m      4\u001b[0m torch\u001b[38;5;241m.\u001b[39mcuda\u001b[38;5;241m.\u001b[39mmanual_seed(\u001b[38;5;241m42\u001b[39m)\n\u001b[0;32m      5\u001b[0m \u001b[38;5;28;01mfor\u001b[39;00m epoch \u001b[38;5;129;01min\u001b[39;00m \u001b[38;5;28mrange\u001b[39m(epochs):\n\u001b[1;32m----> 6\u001b[0m   train_step(model\u001b[38;5;241m=\u001b[39mmodel,\n\u001b[0;32m      7\u001b[0m              optimizer\u001b[38;5;241m=\u001b[39moptimizer,\n\u001b[0;32m      8\u001b[0m              loss_fn\u001b[38;5;241m=\u001b[39mloss_fn,\n\u001b[0;32m      9\u001b[0m              epoch\u001b[38;5;241m=\u001b[39mepoch,\n\u001b[0;32m     10\u001b[0m              dataloader\u001b[38;5;241m=\u001b[39mtrain_dataloader)\n\u001b[0;32m     11\u001b[0m   test_step(model\u001b[38;5;241m=\u001b[39mmodel,\n\u001b[0;32m     12\u001b[0m             loss_fn\u001b[38;5;241m=\u001b[39mloss_fn,\n\u001b[0;32m     13\u001b[0m             epoch\u001b[38;5;241m=\u001b[39mepoch,\n\u001b[0;32m     14\u001b[0m             dataloader\u001b[38;5;241m=\u001b[39mtest_dataloader)\n",
            "Cell \u001b[1;32mIn[30], line 13\u001b[0m, in \u001b[0;36mtrain_step\u001b[1;34m(model, optimizer, loss_fn, epoch, dataloader)\u001b[0m\n\u001b[0;32m     11\u001b[0m y_pred \u001b[38;5;241m=\u001b[39m model(X)\n\u001b[0;32m     12\u001b[0m loss \u001b[38;5;241m=\u001b[39m loss_fn(y_pred, y)\n\u001b[1;32m---> 13\u001b[0m train_loss \u001b[38;5;241m+\u001b[39m\u001b[38;5;241m=\u001b[39mloss\u001b[38;5;241m.\u001b[39mitem()\n\u001b[0;32m     14\u001b[0m model\u001b[38;5;241m.\u001b[39mzero_grad()\n\u001b[0;32m     15\u001b[0m loss\u001b[38;5;241m.\u001b[39mbackward()\n",
            "\u001b[1;31mKeyboardInterrupt\u001b[0m: "
          ]
        }
      ]
    },
    {
      "cell_type": "code",
      "source": [
        "# Plotting Confusion Matrix\n",
        "from sklearn.metrics import ConfusionMatrixDisplay\n",
        "from sklearn.metrics import confusion_matrix\n",
        "\n",
        "y_true = []\n",
        "y_preds = []\n",
        "\n",
        "model.eval()\n",
        "with torch.inference_mode():\n",
        "  for X, y in test_dataloader:\n",
        "    X, y = X.to(device), y.to(device)\n",
        "\n",
        "\n",
        "    y_pred = model(X)\n",
        "    y_pred_class = y_pred.argmax(dim=1)\n",
        "\n",
        "    y_true.extend(y.cpu().numpy())\n",
        "    y_preds.extend(y_pred_class.cpu().numpy())\n",
        "\n",
        "cm = confusion_matrix(y_true, y_preds)\n",
        "disp = ConfusionMatrixDisplay(confusion_matrix=cm, display_labels=range(5))\n",
        "disp.plot(cmap=\"viridis\")  # Customize colormap if needed"
      ],
      "metadata": {
        "id": "QzATVCYaEFGg",
        "colab": {
          "base_uri": "https://localhost:8080/",
          "height": 466
        },
        "outputId": "07f13c52-9191-454d-9aff-4c7ed552bedd"
      },
      "execution_count": null,
      "outputs": [
        {
          "output_type": "execute_result",
          "data": {
            "text/plain": [
              "<sklearn.metrics._plot.confusion_matrix.ConfusionMatrixDisplay at 0x26eea053310>"
            ]
          },
          "metadata": {},
          "execution_count": 40
        },
        {
          "output_type": "display_data",
          "data": {
            "text/plain": [
              "<Figure size 640x480 with 2 Axes>"
            ],
            "image/png": "[encoded data removed]"
          },
          "metadata": {}
        }
      ]
    },
    {
      "cell_type": "code",
      "source": [
        "torch.save(obj=model.state_dict(),\n",
        "           f=r\"C:\\Users\\shobh\\Desktop\\python\\ecg.pth\")"
      ],
      "metadata": {
        "id": "Zq-ktyAbWMqf"
      },
      "execution_count": null,
      "outputs": []
    },
    {
      "cell_type": "code",
      "source": [
        "model.load_state_dict(torch.load(r\"C:\\Users\\shobh\\Desktop\\python\\ecg.pth\"))"
      ],
      "metadata": {
        "id": "zE1eZH0MWrzi",
        "colab": {
          "base_uri": "https://localhost:8080/"
        },
        "outputId": "6f26b51d-e965-4f88-ef19-82734304e15f"
      },
      "execution_count": null,
      "outputs": [
        {
          "output_type": "stream",
          "name": "stderr",
          "text": [
            "C:\\Users\\shobh\\AppData\\Local\\Temp\\ipykernel_12940\\2791013023.py:1: FutureWarning: You are using `torch.load` with `weights_only=False` (the current default value), which uses the default pickle module implicitly. It is possible to construct malicious pickle data which will execute arbitrary code during unpickling (See https://github.com/pytorch/pytorch/blob/main/SECURITY.md#untrusted-models for more details). In a future release, the default value for `weights_only` will be flipped to `True`. This limits the functions that could be executed during unpickling. Arbitrary objects will no longer be allowed to be loaded via this mode unless they are explicitly allowlisted by the user via `torch.serialization.add_safe_globals`. We recommend you start setting `weights_only=True` for any use case where you don't have full control of the loaded file. Please open an issue on GitHub for any issues related to this experimental feature.\n",
            "  model.load_state_dict(torch.load(r\"C:\\Users\\shobh\\Desktop\\python\\ecg.pth\"))\n"
          ]
        },
        {
          "output_type": "execute_result",
          "data": {
            "text/plain": [
              "<All keys matched successfully>"
            ]
          },
          "metadata": {},
          "execution_count": 5
        }
      ]
    },
    {
      "cell_type": "code",
      "source": [
        "mylist = '''0.97794116, 0.92647058, 0.68137252, 0.24509804, 0.15441176,\n",
        "       0.19117647, 0.15196079, 0.08578432, 0.05882353, 0.04901961,\n",
        "       0.04411765, 0.06127451, 0.06617647, 0.06127451, 0.04901961,\n",
        "       0.07352941, 0.06127451, 0.06127451, 0.06617647, 0.06862745,\n",
        "       0.09558824, 0.0759804 , 0.09313726, 0.10539216, 0.11519608,\n",
        "       0.10294118, 0.11764706, 0.125     , 0.14215687, 0.12745099,\n",
        "       0.15196079, 0.14460784, 0.16421568, 0.14460784, 0.15931372,\n",
        "       0.15196079, 0.15441176, 0.14215687, 0.15196079, 0.15196079,\n",
        "       0.14705883, 0.13235295, 0.12745099, 0.13480392, 0.13725491,\n",
        "       0.1127451 , 0.10784314, 0.10539216, 0.10784314, 0.09803922,\n",
        "       0.09313726, 0.10294118, 0.1004902 , 0.10539216, 0.10294118,\n",
        "       0.11764706, 0.10539216, 0.12254902, 0.12745099, 0.14215687,\n",
        "       0.14705883, 0.14460784, 0.1740196 , 0.23039216, 0.23774509,\n",
        "       0.24754901, 0.23039216, 0.2254902 , 0.19852941, 0.17647059,\n",
        "       0.13235295, 0.125     , 0.11764706, 0.12254902, 0.1127451 ,\n",
        "       0.12990196, 0.11519608, 0.08333334, 0.        , 0.06617647,\n",
        "       0.30637255, 0.61274511, 0.8602941 , 1.        , 0.95833331,\n",
        "       0.74509805, 0.30392158, 0.16421568, 0.20588236, 0.16421568,\n",
        "       0.10294118, 0.09558824, 0.09068628, 0.1004902 , 0.09558824,\n",
        "       0.09803922, 0.09313726, 0.09803922, 0.09558824, 0.1127451 ,\n",
        "       0.        , 0.        , 0.        , 0.        , 0.        ,\n",
        "       0.        , 0.        , 0.        , 0.        , 0.        ,\n",
        "       0.        , 0.        , 0.        , 0.        , 0.        ,\n",
        "       0.        , 0.        , 0.        , 0.        , 0.        ,\n",
        "       0.        , 0.        , 0.        , 0.        , 0.        ,\n",
        "       0.        , 0.        , 0.        , 0.        , 0.        ,\n",
        "       0.        , 0.        , 0.        , 0.        , 0.        ,\n",
        "       0.        , 0.        , 0.        , 0.        , 0.        ,\n",
        "       0.        , 0.        , 0.        , 0.        , 0.        ,\n",
        "       0.        , 0.        , 0.        , 0.        , 0.        ,\n",
        "       0.        , 0.        , 0.        , 0.        , 0.        ,\n",
        "       0.        , 0.        , 0.        , 0.        , 0.        ,\n",
        "       0.        , 0.        , 0.        , 0.        , 0.        ,\n",
        "       0.        , 0.        , 0.        , 0.        , 0.        ,\n",
        "       0.        , 0.        , 0.        , 0.        , 0.        ,\n",
        "       0.        , 0.        , 0.        , 0.        , 0.        ,\n",
        "       0.        , 0.        , 0.        , 0.        , 0.        ,\n",
        "       0.        , 0.        , 0.       '''.split()"
      ],
      "metadata": {
        "id": "Lzr4i6gDno11"
      },
      "execution_count": null,
      "outputs": []
    },
    {
      "cell_type": "code",
      "source": [
        "''.join(mylist)"
      ],
      "metadata": {
        "colab": {
          "base_uri": "https://localhost:8080/"
        },
        "id": "Zm2O_8uQqh3V",
        "outputId": "75cbf5f6-30f3-4fd8-f81b-451404e028ef"
      },
      "execution_count": null,
      "outputs": [
        {
          "output_type": "execute_result",
          "data": {
            "text/plain": [
              "'0.97794116,0.92647058,0.68137252,0.24509804,0.15441176,0.19117647,0.15196079,0.08578432,0.05882353,0.04901961,0.04411765,0.06127451,0.06617647,0.06127451,0.04901961,0.07352941,0.06127451,0.06127451,0.06617647,0.06862745,0.09558824,0.0759804,0.09313726,0.10539216,0.11519608,0.10294118,0.11764706,0.125,0.14215687,0.12745099,0.15196079,0.14460784,0.16421568,0.14460784,0.15931372,0.15196079,0.15441176,0.14215687,0.15196079,0.15196079,0.14705883,0.13235295,0.12745099,0.13480392,0.13725491,0.1127451,0.10784314,0.10539216,0.10784314,0.09803922,0.09313726,0.10294118,0.1004902,0.10539216,0.10294118,0.11764706,0.10539216,0.12254902,0.12745099,0.14215687,0.14705883,0.14460784,0.1740196,0.23039216,0.23774509,0.24754901,0.23039216,0.2254902,0.19852941,0.17647059,0.13235295,0.125,0.11764706,0.12254902,0.1127451,0.12990196,0.11519608,0.08333334,0.,0.06617647,0.30637255,0.61274511,0.8602941,1.,0.95833331,0.74509805,0.30392158,0.16421568,0.20588236,0.16421568,0.10294118,0.09558824,0.09068628,0.1004902,0.09558824,0.09803922,0.09313726,0.09803922,0.09558824,0.1127451,0.,0.,0.,0.,0.,0.,0.,0.,0.,0.,0.,0.,0.,0.,0.,0.,0.,0.,0.,0.,0.,0.,0.,0.,0.,0.,0.,0.,0.,0.,0.,0.,0.,0.,0.,0.,0.,0.,0.,0.,0.,0.,0.,0.,0.,0.,0.,0.,0.,0.,0.,0.,0.,0.,0.,0.,0.,0.,0.,0.,0.,0.,0.,0.,0.,0.,0.,0.,0.,0.,0.,0.,0.,0.,0.,0.,0.,0.,0.,0.,0.,0.,0.,0.,0.,0.,0.,0.'"
            ]
          },
          "metadata": {},
          "execution_count": 11
        }
      ]
    },
    {
      "cell_type": "code",
      "source": [
        "mystr = np.str_(\"0.97794116,0.92647058,0.68137252,0.24509804,0.15441176,0.19117647,0.15196079,0.08578432,0.05882353,0.04901961,0.04411765,0.06127451,0.06617647,0.06127451,0.04901961,0.07352941,0.06127451,0.06127451,0.06617647,0.06862745,0.09558824,0.0759804,0.09313726,0.10539216,0.11519608,0.10294118,0.11764706,0.125,0.14215687,0.12745099,0.15196079,0.14460784,0.16421568,0.14460784,0.15931372,0.15196079,0.15441176,0.14215687,0.15196079,0.15196079,0.14705883,0.13235295,0.12745099,0.13480392,0.13725491,0.1127451,0.10784314,0.10539216,0.10784314,0.09803922,0.09313726,0.10294118,0.1004902,0.10539216,0.10294118,0.11764706,0.10539216,0.12254902,0.12745099,0.14215687,0.14705883,0.14460784,0.1740196,0.23039216,0.23774509,0.24754901,0.23039216,0.2254902,0.19852941,0.17647059,0.13235295,0.125,0.11764706,0.12254902,0.1127451,0.12990196,0.11519608,0.08333334,0.,0.06617647,0.30637255,0.61274511,0.8602941,1.,0.95833331,0.74509805,0.30392158,0.16421568,0.20588236,0.16421568,0.10294118,0.09558824,0.09068628,0.1004902,0.09558824,0.09803922,0.09313726,0.09803922,0.09558824,0.1127451,0.,0.,0.,0.,0.,0.,0.,0.,0.,0.,0.,0.,0.,0.,0.,0.,0.,0.,0.,0.,0.,0.,0.,0.,0.,0.,0.,0.,0.,0.,0.,0.,0.,0.,0.,0.,0.,0.,0.,0.,0.,0.,0.,0.,0.,0.,0.,0.,0.,0.,0.,0.,0.,0.,0.,0.,0.,0.,0.,0.,0.,0.,0.,0.,0.,0.,0.,0.,0.,0.,0.,0.,0.,0.,0.,0.,0.,0.,0.,0.,0.,0.,0.,0.,0.,0.,0.,0.\")"
      ],
      "metadata": {
        "id": "kvMqajLUqx27"
      },
      "execution_count": null,
      "outputs": []
    },
    {
      "cell_type": "code",
      "source": [
        "torch.from_numpy(np.array(mystr.split(','), dtype=np.float32)).unsqueeze(0).unsqueeze(0).shape"
      ],
      "metadata": {
        "colab": {
          "base_uri": "https://localhost:8080/"
        },
        "id": "JvIfqgxY_scu",
        "outputId": "468ef052-0728-456b-a7fb-a5881ad39a06"
      },
      "execution_count": null,
      "outputs": [
        {
          "output_type": "execute_result",
          "data": {
            "text/plain": [
              "torch.Size([1, 1, 188])"
            ]
          },
          "metadata": {},
          "execution_count": 23
        }
      ]
    },
    {
      "cell_type": "code",
      "source": [
        "0.97794116,0.92647058,0.68137252,0.24509804,0.15441176,0.19117647,0.15196079,0.08578432,0.05882353,0.04901961,0.04411765,0.06127451,0.06617647,0.06127451,0.04901961,0.07352941,0.06127451,0.06127451,0.06617647,0.06862745,0.09558824,0.0759804,0.09313726,0.10539216,0.11519608,0.10294118,0.11764706,0.125,0.14215687,0.12745099,0.15196079,0.14460784,0.16421568,0.14460784,0.15931372,0.15196079,0.15441176,0.14215687,0.15196079,0.15196079,0.14705883,0.13235295,0.12745099,0.13480392,0.13725491,0.1127451,0.10784314,0.10539216,0.10784314,0.09803922,0.09313726,0.10294118,0.1004902,0.10539216,0.10294118,0.11764706,0.10539216,0.12254902,0.12745099,0.14215687,0.14705883,0.14460784,0.1740196,0.23039216,0.23774509,0.24754901,0.23039216,0.2254902,0.19852941,0.17647059,0.13235295,0.125,0.11764706,0.12254902,0.1127451,0.12990196,0.11519608,0.08333334,0.,0.06617647,0.30637255,0.61274511,0.8602941,1.,0.95833331,0.74509805,0.30392158,0.16421568,0.20588236,0.16421568,0.10294118,0.09558824,0.09068628,0.1004902,0.09558824,0.09803922,0.09313726,0.09803922,0.09558824,0.1127451,0.,0.,0.,0.,0.,0.,0.,0.,0.,0.,0.,0.,0.,0.,0.,0.,0.,0.,0.,0.,0.,0.,0.,0.,0.,0.,0.,0.,0.,0.,0.,0.,0.,0.,0.,0.,0.,0.,0.,0.,0.,0.,0.,0.,0.,0.,0.,0.,0.,0.,0.,0.,0.,0.,0.,0.,0.,0.,0.,0.,0.,0.,0.,0.,0.,0.,0.,0.,0.,0.,0.,0.,0.,0.,0.,0.,0.,0.,0.,0.,0.,0.,0.,0.,0.,0.,0."
      ],
      "metadata": {
        "colab": {
          "base_uri": "https://localhost:8080/"
        },
        "id": "NS67wtuB_wRR",
        "outputId": "9f539d20-ea66-4508-bfd7-c5b042047194"
      },
      "execution_count": null,
      "outputs": [
        {
          "output_type": "execute_result",
          "data": {
            "text/plain": [
              "187"
            ]
          },
          "metadata": {},
          "execution_count": 25
        }
      ]
    },
    {
      "cell_type": "code",
      "source": [],
      "metadata": {
        "id": "AakEq9ncBY09"
      },
      "execution_count": null,
      "outputs": []
    }
  ]
}